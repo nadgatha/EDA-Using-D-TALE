{
 "cells": [
  {
   "cell_type": "code",
   "execution_count": 1,
   "metadata": {},
   "outputs": [
    {
     "name": "stdout",
     "output_type": "stream",
     "text": [
      "Requirement already satisfied: dtale in c:\\users\\nadya sarilla agatha\\appdata\\local\\programs\\python\\python311\\lib\\site-packages (3.6.0)\n",
      "Requirement already satisfied: dash-colorscales in c:\\users\\nadya sarilla agatha\\appdata\\local\\programs\\python\\python311\\lib\\site-packages (from dtale) (0.0.4)\n",
      "Requirement already satisfied: dash-daq in c:\\users\\nadya sarilla agatha\\appdata\\local\\programs\\python\\python311\\lib\\site-packages (from dtale) (0.5.0)\n",
      "Requirement already satisfied: Flask-Compress in c:\\users\\nadya sarilla agatha\\appdata\\local\\programs\\python\\python311\\lib\\site-packages (from dtale) (1.14)\n",
      "Requirement already satisfied: future>=0.14.0 in c:\\users\\nadya sarilla agatha\\appdata\\local\\programs\\python\\python311\\lib\\site-packages (from dtale) (0.18.3)\n",
      "Requirement already satisfied: kaleido in c:\\users\\nadya sarilla agatha\\appdata\\local\\programs\\python\\python311\\lib\\site-packages (from dtale) (0.2.1)\n",
      "Requirement already satisfied: missingno in c:\\users\\nadya sarilla agatha\\appdata\\local\\programs\\python\\python311\\lib\\site-packages (from dtale) (0.5.2)\n",
      "Requirement already satisfied: pandas in c:\\users\\nadya sarilla agatha\\appdata\\local\\programs\\python\\python311\\lib\\site-packages (from dtale) (1.5.3)\n",
      "Requirement already satisfied: squarify in c:\\users\\nadya sarilla agatha\\appdata\\local\\programs\\python\\python311\\lib\\site-packages (from dtale) (0.4.3)\n",
      "Requirement already satisfied: strsimpy in c:\\users\\nadya sarilla agatha\\appdata\\local\\programs\\python\\python311\\lib\\site-packages (from dtale) (0.2.1)\n",
      "Requirement already satisfied: six in c:\\users\\nadya sarilla agatha\\appdata\\roaming\\python\\python311\\site-packages (from dtale) (1.16.0)\n",
      "Requirement already satisfied: xlrd in c:\\users\\nadya sarilla agatha\\appdata\\local\\programs\\python\\python311\\lib\\site-packages (from dtale) (2.0.1)\n",
      "Requirement already satisfied: beautifulsoup4 in c:\\users\\nadya sarilla agatha\\appdata\\local\\programs\\python\\python311\\lib\\site-packages (from dtale) (4.12.2)\n",
      "Requirement already satisfied: certifi in c:\\users\\nadya sarilla agatha\\appdata\\local\\programs\\python\\python311\\lib\\site-packages (from dtale) (2023.7.22)\n",
      "Requirement already satisfied: flask-ngrok in c:\\users\\nadya sarilla agatha\\appdata\\local\\programs\\python\\python311\\lib\\site-packages (from dtale) (0.0.25)\n",
      "Requirement already satisfied: lz4 in c:\\users\\nadya sarilla agatha\\appdata\\local\\programs\\python\\python311\\lib\\site-packages (from dtale) (4.3.2)\n",
      "Requirement already satisfied: cycler in c:\\users\\nadya sarilla agatha\\appdata\\local\\programs\\python\\python311\\lib\\site-packages (from dtale) (0.11.0)\n",
      "Requirement already satisfied: dash-bootstrap-components<=1.3.1 in c:\\users\\nadya sarilla agatha\\appdata\\local\\programs\\python\\python311\\lib\\site-packages (from dtale) (1.3.1)\n",
      "Requirement already satisfied: seaborn!=0.13.0rc0 in c:\\users\\nadya sarilla agatha\\appdata\\local\\programs\\python\\python311\\lib\\site-packages (from dtale) (0.12.2)\n",
      "Requirement already satisfied: networkx in c:\\users\\nadya sarilla agatha\\appdata\\local\\programs\\python\\python311\\lib\\site-packages (from dtale) (3.1)\n",
      "Requirement already satisfied: scikit-learn in c:\\users\\nadya sarilla agatha\\appdata\\local\\programs\\python\\python311\\lib\\site-packages (from dtale) (1.3.0)\n",
      "Requirement already satisfied: statsmodels in c:\\users\\nadya sarilla agatha\\appdata\\local\\programs\\python\\python311\\lib\\site-packages (from dtale) (0.14.0)\n",
      "Requirement already satisfied: numpy in c:\\users\\nadya sarilla agatha\\appdata\\local\\programs\\python\\python311\\lib\\site-packages (from dtale) (1.25.2)\n",
      "Requirement already satisfied: openpyxl!=3.2.0b1 in c:\\users\\nadya sarilla agatha\\appdata\\local\\programs\\python\\python311\\lib\\site-packages (from dtale) (3.1.2)\n",
      "Requirement already satisfied: xarray in c:\\users\\nadya sarilla agatha\\appdata\\local\\programs\\python\\python311\\lib\\site-packages (from dtale) (2023.9.0)\n",
      "Requirement already satisfied: dash in c:\\users\\nadya sarilla agatha\\appdata\\local\\programs\\python\\python311\\lib\\site-packages (from dtale) (2.13.0)\n",
      "Requirement already satisfied: et-xmlfile in c:\\users\\nadya sarilla agatha\\appdata\\local\\programs\\python\\python311\\lib\\site-packages (from dtale) (1.1.0)\n",
      "Requirement already satisfied: plotly in c:\\users\\nadya sarilla agatha\\appdata\\local\\programs\\python\\python311\\lib\\site-packages (from dtale) (5.17.0)\n",
      "Requirement already satisfied: Flask<2.3 in c:\\users\\nadya sarilla agatha\\appdata\\local\\programs\\python\\python311\\lib\\site-packages (from dtale) (2.2.5)\n",
      "Requirement already satisfied: itsdangerous in c:\\users\\nadya sarilla agatha\\appdata\\local\\programs\\python\\python311\\lib\\site-packages (from dtale) (2.1.2)\n",
      "Requirement already satisfied: requests in c:\\users\\nadya sarilla agatha\\appdata\\local\\programs\\python\\python311\\lib\\site-packages (from dtale) (2.31.0)\n",
      "Requirement already satisfied: werkzeug<2.3 in c:\\users\\nadya sarilla agatha\\appdata\\local\\programs\\python\\python311\\lib\\site-packages (from dtale) (2.2.3)\n",
      "Requirement already satisfied: matplotlib in c:\\users\\nadya sarilla agatha\\appdata\\local\\programs\\python\\python311\\lib\\site-packages (from dtale) (3.7.2)\n",
      "Requirement already satisfied: scipy in c:\\users\\nadya sarilla agatha\\appdata\\local\\programs\\python\\python311\\lib\\site-packages (from dtale) (1.11.2)\n",
      "Requirement already satisfied: dash-html-components==2.0.0 in c:\\users\\nadya sarilla agatha\\appdata\\local\\programs\\python\\python311\\lib\\site-packages (from dash->dtale) (2.0.0)\n",
      "Requirement already satisfied: dash-core-components==2.0.0 in c:\\users\\nadya sarilla agatha\\appdata\\local\\programs\\python\\python311\\lib\\site-packages (from dash->dtale) (2.0.0)\n",
      "Requirement already satisfied: dash-table==5.0.0 in c:\\users\\nadya sarilla agatha\\appdata\\local\\programs\\python\\python311\\lib\\site-packages (from dash->dtale) (5.0.0)\n",
      "Requirement already satisfied: typing-extensions>=4.1.1 in c:\\users\\nadya sarilla agatha\\appdata\\local\\programs\\python\\python311\\lib\\site-packages (from dash->dtale) (4.8.0)\n",
      "Requirement already satisfied: retrying in c:\\users\\nadya sarilla agatha\\appdata\\local\\programs\\python\\python311\\lib\\site-packages (from dash->dtale) (1.3.4)\n",
      "Requirement already satisfied: ansi2html in c:\\users\\nadya sarilla agatha\\appdata\\local\\programs\\python\\python311\\lib\\site-packages (from dash->dtale) (1.8.0)\n",
      "Requirement already satisfied: nest-asyncio in c:\\users\\nadya sarilla agatha\\appdata\\roaming\\python\\python311\\site-packages (from dash->dtale) (1.5.7)\n",
      "Requirement already satisfied: setuptools in c:\\users\\nadya sarilla agatha\\appdata\\local\\programs\\python\\python311\\lib\\site-packages (from dash->dtale) (65.5.0)\n",
      "Requirement already satisfied: Jinja2>=3.0 in c:\\users\\nadya sarilla agatha\\appdata\\local\\programs\\python\\python311\\lib\\site-packages (from Flask<2.3->dtale) (3.1.2)\n",
      "Requirement already satisfied: click>=8.0 in c:\\users\\nadya sarilla agatha\\appdata\\local\\programs\\python\\python311\\lib\\site-packages (from Flask<2.3->dtale) (8.1.7)\n",
      "Requirement already satisfied: tenacity>=6.2.0 in c:\\users\\nadya sarilla agatha\\appdata\\local\\programs\\python\\python311\\lib\\site-packages (from plotly->dtale) (8.2.3)\n",
      "Requirement already satisfied: packaging in c:\\users\\nadya sarilla agatha\\appdata\\roaming\\python\\python311\\site-packages (from plotly->dtale) (23.1)\n",
      "Requirement already satisfied: contourpy>=1.0.1 in c:\\users\\nadya sarilla agatha\\appdata\\local\\programs\\python\\python311\\lib\\site-packages (from matplotlib->dtale) (1.1.0)\n",
      "Requirement already satisfied: fonttools>=4.22.0 in c:\\users\\nadya sarilla agatha\\appdata\\local\\programs\\python\\python311\\lib\\site-packages (from matplotlib->dtale) (4.42.0)\n",
      "Requirement already satisfied: kiwisolver>=1.0.1 in c:\\users\\nadya sarilla agatha\\appdata\\local\\programs\\python\\python311\\lib\\site-packages (from matplotlib->dtale) (1.4.4)\n",
      "Requirement already satisfied: pillow>=6.2.0 in c:\\users\\nadya sarilla agatha\\appdata\\local\\programs\\python\\python311\\lib\\site-packages (from matplotlib->dtale) (10.0.0)\n",
      "Requirement already satisfied: pyparsing<3.1,>=2.3.1 in c:\\users\\nadya sarilla agatha\\appdata\\local\\programs\\python\\python311\\lib\\site-packages (from matplotlib->dtale) (3.0.9)\n",
      "Requirement already satisfied: python-dateutil>=2.7 in c:\\users\\nadya sarilla agatha\\appdata\\roaming\\python\\python311\\site-packages (from matplotlib->dtale) (2.8.2)\n",
      "Requirement already satisfied: pytz>=2020.1 in c:\\users\\nadya sarilla agatha\\appdata\\local\\programs\\python\\python311\\lib\\site-packages (from pandas->dtale) (2023.3)\n",
      "Requirement already satisfied: MarkupSafe>=2.1.1 in c:\\users\\nadya sarilla agatha\\appdata\\local\\programs\\python\\python311\\lib\\site-packages (from werkzeug<2.3->dtale) (2.1.3)\n",
      "Requirement already satisfied: soupsieve>1.2 in c:\\users\\nadya sarilla agatha\\appdata\\local\\programs\\python\\python311\\lib\\site-packages (from beautifulsoup4->dtale) (2.5)\n",
      "Requirement already satisfied: brotli in c:\\users\\nadya sarilla agatha\\appdata\\local\\programs\\python\\python311\\lib\\site-packages (from Flask-Compress->dtale) (1.1.0)\n",
      "Requirement already satisfied: charset-normalizer<4,>=2 in c:\\users\\nadya sarilla agatha\\appdata\\local\\programs\\python\\python311\\lib\\site-packages (from requests->dtale) (3.3.0)\n",
      "Requirement already satisfied: idna<4,>=2.5 in c:\\users\\nadya sarilla agatha\\appdata\\local\\programs\\python\\python311\\lib\\site-packages (from requests->dtale) (3.4)\n",
      "Requirement already satisfied: urllib3<3,>=1.21.1 in c:\\users\\nadya sarilla agatha\\appdata\\local\\programs\\python\\python311\\lib\\site-packages (from requests->dtale) (2.0.5)\n",
      "Requirement already satisfied: joblib>=1.1.1 in c:\\users\\nadya sarilla agatha\\appdata\\local\\programs\\python\\python311\\lib\\site-packages (from scikit-learn->dtale) (1.3.2)\n",
      "Requirement already satisfied: threadpoolctl>=2.0.0 in c:\\users\\nadya sarilla agatha\\appdata\\local\\programs\\python\\python311\\lib\\site-packages (from scikit-learn->dtale) (3.2.0)\n",
      "Requirement already satisfied: patsy>=0.5.2 in c:\\users\\nadya sarilla agatha\\appdata\\local\\programs\\python\\python311\\lib\\site-packages (from statsmodels->dtale) (0.5.3)\n",
      "Requirement already satisfied: colorama in c:\\users\\nadya sarilla agatha\\appdata\\roaming\\python\\python311\\site-packages (from click>=8.0->Flask<2.3->dtale) (0.4.6)\n"
     ]
    },
    {
     "name": "stderr",
     "output_type": "stream",
     "text": [
      "\n",
      "[notice] A new release of pip is available: 23.1.2 -> 23.2.1\n",
      "[notice] To update, run: python.exe -m pip install --upgrade pip\n"
     ]
    }
   ],
   "source": [
    "! pip install dtale"
   ]
  },
  {
   "cell_type": "code",
   "execution_count": 2,
   "metadata": {},
   "outputs": [],
   "source": [
    "# Import Library\n",
    "\n",
    "import dtale\n",
    "import pandas as pd"
   ]
  },
  {
   "cell_type": "code",
   "execution_count": 3,
   "metadata": {},
   "outputs": [],
   "source": [
    "# Load your dataset\n",
    "\n",
    "data = pd.read_excel('Sample_-_Superstore.xls')"
   ]
  },
  {
   "cell_type": "code",
   "execution_count": 4,
   "metadata": {},
   "outputs": [
    {
     "data": {
      "text/html": [
       "\n",
       "        <iframe\n",
       "            width=\"100%\"\n",
       "            height=\"475\"\n",
       "            src=\"http://Nady:40000/dtale/iframe/1\"\n",
       "            frameborder=\"0\"\n",
       "            allowfullscreen\n",
       "            \n",
       "        ></iframe>\n",
       "        "
      ],
      "text/plain": [
       "<IPython.lib.display.IFrame at 0x20077291b90>"
      ]
     },
     "metadata": {},
     "output_type": "display_data"
    },
    {
     "data": {
      "text/plain": []
     },
     "execution_count": 4,
     "metadata": {},
     "output_type": "execute_result"
    }
   ],
   "source": [
    "# Create a Dtale report\n",
    "\n",
    "dtale.show(data)"
   ]
  }
 ],
 "metadata": {
  "kernelspec": {
   "display_name": "Python 3",
   "language": "python",
   "name": "python3"
  },
  "language_info": {
   "codemirror_mode": {
    "name": "ipython",
    "version": 3
   },
   "file_extension": ".py",
   "mimetype": "text/x-python",
   "name": "python",
   "nbconvert_exporter": "python",
   "pygments_lexer": "ipython3",
   "version": "3.11.4"
  },
  "orig_nbformat": 4
 },
 "nbformat": 4,
 "nbformat_minor": 2
}
